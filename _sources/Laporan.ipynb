{
 "cells": [
  {
   "cell_type": "markdown",
   "metadata": {},
   "source": [
    "# PROYEK SAINS PREDIKSI EMISI CO2 DI RWANDA\n"
   ]
  },
  {
   "cell_type": "markdown",
   "metadata": {},
   "source": [
    "# BISNIS UNDERSTANDING"
   ]
  },
  {
   "cell_type": "markdown",
   "metadata": {},
   "source": [
    "## 1. Pendahuluan"
   ]
  },
  {
   "cell_type": "markdown",
   "metadata": {},
   "source": [
    "### a. Latar Belakang"
   ]
  },
  {
   "cell_type": "markdown",
   "metadata": {},
   "source": [
    "Udara bersih baik untuk di hirup untuk manusia, udara bersih juga berdampak pada kehidupan manusia. Rwanda adalah negara kecil terkurung daratan merupakan salah satu penduduk yang terpadat di Afrika. Rwanda juga mengalami hal serupa di seluruh dunia yakni masalah emisi co2.\n",
    "Berdasarkan data di AQICN di Rwanda tahun 2023 kualitas udara masih rendah, dalam upaya mengurangi emisi co2 pemerintah berupaya untuk meningkatkan kualitas udara dengan membatasi polusi udara kendaraan.\n",
    "\n",
    "Dalam pertumbuhan ekonomi, perubahan iklim mejadi salah satu tantang utama yang di hadapi Rwanda, karena pertumbuhan ekonomi yang signifikan dapat berpotensi meningkatkan emisi co2, dan keterbatasan dalam sistem membuat pemantauan emisi co2 di Rwanda. Untuk mengatasi tantangan ini data yang di ambil dari satelit sentinel-SP. Satelit yang mampu mengamati gas yang ada di atmosfer begitu pula dengan co2.\n",
    "\n",
    "Fenomena emisi co2 yang terjadi pada kehidapan manusia sering kali terjadi namun masih di anggap remeh, seringkali manusia tidak bisa mengelola udara dengan baik, melihat Afrika yang benua rentan terhadap perubahan iklim, kontribusi emisi di global leratif kecil namun. Di perlukan sistem yang memprediksi co2, ini dapat memberikan kontribusi melawan perubahan iklim.\n",
    "\n",
    "Penelitian ini membahas bidang Data mining, data mining hasil dari kembangkan dari Machine Learning yang berfokus membantu manusia untuk mengolah data \n",
    "Penelitian ini untuk melakuan anlisi tentang emisi co2 di Rwanda, pada latar belakang di atas menggunakan metode prediksi data mining menggunakan metode random forest \n"
   ]
  },
  {
   "cell_type": "markdown",
   "metadata": {},
   "source": [
    "### b. Rumusan Masalah"
   ]
  },
  {
   "cell_type": "markdown",
   "metadata": {},
   "source": [
    "Rwanda masuk dalam 100 kota dengan polusi terburuk di dunia dengan adanya krisis iklim di Rwanda. Rwanda mengakui polusi udara sebagai ancaman kesehatan serius. Sasaran utama yang di lakukan untuk meningkatkan kesadaran akan damapk polusi serta upaya untuk meningkatkan kualitas udara dan kesehatan manusia. Karena Rwanda merasakan dampak polusi udara dengan lebih 2000 kematian akibat penyakit pernapasan."
   ]
  },
  {
   "cell_type": "markdown",
   "metadata": {},
   "source": [
    "### c. Tujuan"
   ]
  },
  {
   "cell_type": "markdown",
   "metadata": {},
   "source": [
    "Tujuan di buat laporan Proyek Sain Data:\n",
    "1.\tMembuat model yang bisa memprediksi tingkat emisi co2 dari observasi setelit Sentinel-5P\n",
    "2.\tMengetahui faktor-faktor yang mempengaruhi peningkatan emisi di Rwinda\n",
    "\n",
    "Manfaat dari proyek Proyek Sain Data:\n",
    "1.\tMembantu pemerintah dan penduduk Rwanda untuk menelola dampak emisi co2 terhadap iklim\n"
   ]
  }
 ],
 "metadata": {
  "language_info": {
   "name": "python"
  }
 },
 "nbformat": 4,
 "nbformat_minor": 2
}
