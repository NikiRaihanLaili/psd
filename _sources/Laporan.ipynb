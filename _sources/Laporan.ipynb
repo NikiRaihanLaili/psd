{
 "cells": [
  {
   "cell_type": "markdown",
   "metadata": {},
   "source": [
    "# PROYEK SAINS PREDIKSI EMISI CO2 DI RWANDA\n"
   ]
  }
 ],
 "metadata": {
  "language_info": {
   "name": "python"
  }
 },
 "nbformat": 4,
 "nbformat_minor": 2
}
